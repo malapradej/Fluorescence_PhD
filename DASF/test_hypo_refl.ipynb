{
 "metadata": {
  "name": ""
 },
 "nbformat": 3,
 "nbformat_minor": 0,
 "worksheets": [
  {
   "cells": [
    {
     "cell_type": "heading",
     "level": 1,
     "metadata": {},
     "source": [
      "Lookup table for libRadtran atmospheric path reflectance, double transmittance and spherical albedo."
     ]
    },
    {
     "cell_type": "markdown",
     "metadata": {},
     "source": [
      "This notebook is to help show the proof of concept of the Emulation of libRadtran. A selection of GOME-2 scanned points over the Amazon will be used. This script only creates the LUT which can be used to create the Emulator. "
     ]
    },
    {
     "cell_type": "markdown",
     "metadata": {},
     "source": [
      "Section below is only to import modules required and load the pickled dictionary file created in the DASF_GOME-2.py script. "
     ]
    },
    {
     "cell_type": "code",
     "collapsed": false,
     "input": [
      "import os\n",
      "import sys\n",
      "import numpy as np\n",
      "import pickle\n",
      "import matplotlib.pylab as plt\n",
      "import re\n",
      "from scipy.ndimage.filters import gaussian_filter1d as gf\n",
      "from scipy import interpolate\n",
      "import collections\n",
      "from multiprocessing import Process, Queue\n",
      "import pdb\n",
      "\n",
      "fn = 'GOME_xxx_1B_M02_20070125124939Z_20070125143057Z_R_O_20120209112017Z.p'\n",
      "data_path = '/home/malapradej/Documents/PhD_UCL/Data/GOME-2/DASF/'\n",
      "fn = os.path.join(data_path, fn)\n",
      "fl = open(fn, 'rb')\n",
      "ds = pickle.load(fl)\n"
     ],
     "language": "python",
     "metadata": {},
     "outputs": [],
     "prompt_number": 2
    },
    {
     "cell_type": "code",
     "collapsed": false,
     "input": [
      "mask = np.logical_and(np.logical_and(np.array(ds['Lon']) < -52, np.array(ds['Lon']) > -61), \\\n",
      "                  np.logical_and(np.array(ds['Lat']) < 2, np.array(ds['Lat']) > -8))"
     ],
     "language": "python",
     "metadata": {},
     "outputs": [],
     "prompt_number": 3
    },
    {
     "cell_type": "code",
     "collapsed": false,
     "input": [
      "def rel_azimuth(Sol_azi, Sat_azi):\n",
      "    '''A function that returns the relative azimuth angle difference \n",
      "    between the sun and the satellite, where sun is at zero. This is\n",
      "    relative to the libRadtran geometry. See notes on 4/3/15....\n",
      "    '''\n",
      "    Sol_azi = np.array(Sol_azi) + 180.\n",
      "    Sol_azi = np.where(Sol_azi >= 360., Sol_azi - 360., Sol_azi)\n",
      "    Sat_azi = np.array(Sat_azi)\n",
      "    rel = Sat_azi - Sol_azi\n",
      "    rel = np.where(rel < 0., rel + 360., rel)\n",
      "    \n",
      "    return rel\n",
      "    "
     ],
     "language": "python",
     "metadata": {},
     "outputs": [],
     "prompt_number": 4
    },
    {
     "cell_type": "code",
     "collapsed": false,
     "input": [],
     "language": "python",
     "metadata": {},
     "outputs": [],
     "prompt_number": 4
    },
    {
     "cell_type": "code",
     "collapsed": false,
     "input": [
      "Lon = np.array(ds['Lon'])[mask]\n",
      "Lat = np.array(ds['Lat'])[mask]\n",
      "Sat_zen = np.array(ds['Sat_zen'])[mask]\n",
      "Sat_azi = np.array(ds['Sat_azi'])[mask]\n",
      "Sol_zen = np.array(ds['Sol_zen'])[mask]\n",
      "Sol_azi = np.array(ds['Sol_azi'])[mask]\n",
      "Rel_azi = rel_azimuth(Sol_azi, Sat_azi)\n",
      "Ref_toa = np.array(ds['Ref_toa'])[mask]\n",
      "Lam = np.array(ds['Spec'])[mask]\n",
      "Alt = np.array(ds['Alt'])[mask]\n",
      "CF = np.array(ds['Cloud_frac'])[mask]"
     ],
     "language": "python",
     "metadata": {},
     "outputs": [],
     "prompt_number": 5
    },
    {
     "cell_type": "code",
     "collapsed": false,
     "input": [
      "print Sat_zen\n",
      "print Sol_zen\n",
      "print Sat_azi\n",
      "print Sol_azi\n",
      "print Rel_azi\n",
      "print Alt"
     ],
     "language": "python",
     "metadata": {},
     "outputs": [
      {
       "output_type": "stream",
       "stream": "stdout",
       "text": [
        "[ 31.225999  31.251993  26.246645  20.817097  26.221969  20.817695\n",
        "  20.817853  20.818015  15.197327   9.212662  20.830777  15.159939\n",
        "   9.212733   3.014633  15.16006    9.212806   3.002249  26.197307\n",
        "   3.039498   3.039522   3.188282   9.213033   3.014731  15.197833\n",
        "   9.213111   3.002348   9.213191   9.213273   9.213356   9.213441\n",
        "   3.039682   9.213527   3.03971    3.002511   3.18851    3.188541\n",
        "   9.250898   9.213794   3.039797   9.213885   3.015008]\n",
        "[ 40.749425  40.614361  41.288294  41.969606  40.79258   41.476043\n",
        "  41.357971  41.242066  41.91494   42.60051   41.126785  41.806861\n",
        "  42.48924   43.181172  41.696561  42.380134  43.07463   46.494259\n",
        "  42.964709  42.861116  43.553724  42.065968  42.762496  44.824832\n",
        "  41.965687  42.664701  41.867653  41.771884  41.678396  41.587204\n",
        "  42.286168  41.498323  42.198258  42.116857  42.813302  42.730903\n",
        "  43.420747  41.245703  41.94839   41.166219  41.872586]\n",
        "[ 282.74701   282.723096  282.720084  282.715392  282.643181  282.655671\n",
        "  282.641178  282.626857  282.64592   282.663712  282.612652  282.636134\n",
        "  282.658067  282.678644  282.626401  282.652599  282.677542  102.775863\n",
        "  282.67641   282.6756    102.707337  282.637248  282.675117  102.777342\n",
        "  282.632482  282.674764  282.627893  282.623479  282.619242  282.615181\n",
        "  282.674514  282.611297  282.674967  282.676004  102.741886  102.747045\n",
        "  102.814825  282.600711  282.677426  282.59754   282.678935]\n",
        "[ 120.507884  120.123321  119.867163  119.616263  118.33118   118.11398\n",
        "  117.733072  117.350076  117.159797  116.972346  116.965415  116.781923\n",
        "  116.60386   116.429243  116.403248  116.233517  116.066912  115.31749\n",
        "  115.704011  115.338485  115.194592  115.111624  114.970766  114.580665\n",
        "  114.734139  114.601692  114.354945  113.974076  113.591568  113.207456\n",
        "  113.110978  112.821778  112.734314  112.355814  112.281547  111.911014\n",
        "  111.849436  111.655735  111.59578   111.264188  111.213406]\n",
        "[ 342.239126  342.599775  342.852921  343.099129  344.312001  344.541691\n",
        "  344.908106  345.276781  345.486123  345.691366  345.647237  345.854211\n",
        "  346.054207  346.249401  346.223153  346.419082  346.61063   167.458373\n",
        "  346.972399  347.337115  167.512745  347.525624  347.704351  168.196677\n",
        "  347.898343  348.073072  348.272948  348.649403  349.027674  349.407725\n",
        "  349.563536  349.789519  349.940653  350.32019   170.460339  170.836031\n",
        "  170.965389  350.944976  351.081646  351.333352  351.465529]\n",
        "[ 150.  181.  197.  242.  308.  256.  190.  111.   56.   32.   52.   14.\n",
        "   85.   63.  100.   30.   96.  101.  100.   25.   43.   27.   28.  100.\n",
        "   57.   36.   61.  100.  100.   99.   78.  100.  100.   99.  100.  100.\n",
        "   72.   99.   97.  119.  103.]\n"
       ]
      }
     ],
     "prompt_number": 6
    },
    {
     "cell_type": "code",
     "collapsed": false,
     "input": [
      "# select only a small subset\n",
      "indices = [0, 3, 4, 8, 9, 13]\n",
      "Sat_zen = [Sat_zen[i] for i in indices]\n",
      "Sat_azi = [Sat_azi[i] for i in indices]\n",
      "Sol_zen = [Sol_zen[i] for i in indices]\n",
      "Sol_azi = [Sol_azi[i] for i in indices]\n",
      "Rel_azi = [Rel_azi[i] for i in indices]\n",
      "Alt = [Alt[i] for i in indices]"
     ],
     "language": "python",
     "metadata": {},
     "outputs": [],
     "prompt_number": 7
    },
    {
     "cell_type": "code",
     "collapsed": false,
     "input": [
      "sol_zena = np.array([40.]) # degrees\n",
      "sat_zena = np.array([0., 10., 20., 30.])\n",
      "rel_azia = np.array([170., 340., 350.]) # relative azimuth in libRadtran geometry\n",
      "alta = np.array([0., 0.250]) # km AMSL\n",
      "atma = ['tropics'] #np.arange(['tropics', 'midlatitude_summer', 'midlatitude_winter', 'subarctic_summer', 'subarctic_winter'])\n",
      "aota = np.array([0., 0.2, 0.4, 0.6, 0.8, 1.0]) \n",
      "wvca = np.array([0., 10., 20., 30., 40., 50., 60., 70., 80.]) # kg/m2\n",
      "pressa = np.array([900., 9050., 1000, 1050., 1100.]) # hPa\n",
      "file_leaf = 'leaf_spectrum.txt'\n",
      "wl_min, wl_max = (540., 760.)\n",
      "w = np.genfromtxt(file_leaf)\n",
      "wl = w[:,0]\n",
      "w = np.sum(w[:,1:], axis=1)\n",
      "index = np.logical_and(wl <= wl_max, wl >= wl_min)\n",
      "wl = wl[index]\n",
      "w = w[index]\n",
      "wc = np.vstack((wl, w)).T\n",
      "inp_template = 'data_files_path /usr/local/share/libRadtran/data/\\\n",
      "    \\noutput_quantity transmittance \\nmol_abs_param reptran \\npseudospherical \\\n",
      "    \\nrte_solver disort \\naerosol_default \\naerosol_species_file continental_average \\\n",
      "    \\nsource solar /usr/local/share/libRadtran/data/solar_flux/atlas_plus_modtran \\\n",
      "    \\natmosphere_file %s\\\n",
      "    \\naerosol_set_tau_at_wvl 550 %.6f \\nmol_modify H2O %.6f MM \\\n",
      "    \\npressure %.6f \\nwavelength %.8f %.8f \\\n",
      "    \\nsza %.6f \\nphi0 0.0 \\numu %.6f \\nphi %.6f \\\n",
      "    \\nalbedo %.6f \\naltitude %.3f \\nzout %s \\noutput_user lambda %s'\n"
     ],
     "language": "python",
     "metadata": {},
     "outputs": [],
     "prompt_number": 8
    },
    {
     "cell_type": "code",
     "collapsed": false,
     "input": [
      "def trans_double(sol_zen, sat_zen, rel_azi,  alt, wl_min, \\\n",
      "        wl_max, atm, aot, wvc, press, que):\n",
      "    '''A function that calculates the 2-way upward and downward transmittance.\n",
      "    '''\n",
      "    t1_inp = inp_template % (atm, aot, wvc, press, wl_min,\\\n",
      "        wl_max, sol_zen, np.cos(sat_zen*np.pi/180.), rel_azi, 0.0, \\\n",
      "        alt, 'sur', 'eglo')\n",
      "    t2_inp = inp_template % (atm, aot, wvc, press, wl_min,\\\n",
      "        wl_max, sat_zen, np.cos(sat_zen*np.pi/180.), rel_azi, 0.0, \\\n",
      "        alt, 'sur', 'eglo')\n",
      "    # the downward transmittance\n",
      "    process = subprocess.Popen('uvspec', stdin=subprocess.PIPE, stdout=\\\n",
      "        subprocess.PIPE, stderr=subprocess.PIPE, shell=True)\n",
      "    t1_arr, err1 = process.communicate(input=t1_inp)\n",
      "    t1_arr = re.split('[\\n\\s]+', t1_arr)[1:-1]\n",
      "    t1_arr = np.array(map(float, t1_arr))\n",
      "    t1_arr = np.reshape(t1_arr, (-1,2))\n",
      "    lam = t1_arr[:,0]\n",
      "    t1_arr = t1_arr[:,1]\n",
      "    # take in consideration the cosine of solar zenith see eq(6.6) in manual\n",
      "    t1_arr = t1_arr / np.cos(sol_zen*np.pi/180.)\n",
      "    \n",
      "    # the upward transmittance\n",
      "    process = subprocess.Popen('uvspec', stdin=subprocess.PIPE, stdout=\\\n",
      "        subprocess.PIPE, stderr=subprocess.PIPE, shell=True)\n",
      "    t2_arr, err2 = process.communicate(input=t2_inp)\n",
      "    t2_arr = re.split('[\\n\\s]+', t2_arr)[1:-1]\n",
      "    t2_arr = np.array(map(float, t2_arr))\n",
      "    t2_arr = np.reshape(t2_arr, (-1,2))\n",
      "    lam = t2_arr[:,0]\n",
      "    t2_arr = t2_arr[:,1]\n",
      "    # take in consideration the cosine of solar zenith see eq(6.6) in manual\n",
      "    t2_arr = t2_arr / np.cos(sat_zen*np.pi/180.)\n",
      "    \n",
      "    tt_arr = t1_arr * t2_arr\n",
      "    \n",
      "    que.put((lam, tt_arr))"
     ],
     "language": "python",
     "metadata": {},
     "outputs": [],
     "prompt_number": 9
    },
    {
     "cell_type": "code",
     "collapsed": false,
     "input": [
      "def spher_alb(sol_zen, sat_zen, rel_azi,  alt, wl_min, \\\n",
      "        wl_max, atm, aot, wvc, press, que):\n",
      "    '''A function that calculates the spherical albedo of the sky.\n",
      "    '''\n",
      "    sph_alb_inp = inp_template % (atm, aot, wvc, press, wl_min,\\\n",
      "        wl_max, sol_zen, np.cos(sat_zen*np.pi/180.), rel_azi, 1.0, \\\n",
      "        alt, 'sur', 'spher_alb')\n",
      "    sph_alb_inp = sph_alb_inp + '\\ndisort_spherical_albedo' # bug needs this at end...\n",
      "    process = subprocess.Popen('uvspec', stdin=subprocess.PIPE, stdout=\\\n",
      "    subprocess.PIPE, stderr=subprocess.PIPE, shell=True)\n",
      "    sph_alb_arr, err4 = process.communicate(input=sph_alb_inp)\n",
      "    sph_alb_arr = re.split('[\\n\\s]+', sph_alb_arr)[1:-1]\n",
      "    sph_alb_arr = np.array(map(float, sph_alb_arr))\n",
      "    sph_alb_arr = np.reshape(sph_alb_arr, (-1,2))\n",
      "    lam = sph_alb_arr[:,0]\n",
      "    sph_alb_arr = sph_alb_arr[:,1]\n",
      "    \n",
      "    que.put((lam, sph_alb_arr))\n"
     ],
     "language": "python",
     "metadata": {},
     "outputs": [],
     "prompt_number": 10
    },
    {
     "cell_type": "code",
     "collapsed": false,
     "input": [
      "def atm_path_refl(sol_zen, sat_zen, rel_azi,  alt, wl_min, \\\n",
      "        wl_max, atm, aot, wvc, press, que):\n",
      "    '''A function that calculates the atmospheric path reflectance also called\n",
      "    intrinsic atmospheric reflectance.\n",
      "    '''\n",
      "    ref_atm_inp = inp_template % (atm, aot, wvc, press, wl_min,\\\n",
      "        wl_max, sol_zen, np.cos(sat_zen*np.pi/180.), rel_azi, 0.0, \\\n",
      "        alt, 'toa', 'uu')\n",
      "    process = subprocess.Popen('uvspec', stdin=subprocess.PIPE, stdout=\\\n",
      "    subprocess.PIPE, stderr=subprocess.PIPE, shell=True)\n",
      "    ref_atm_arr, err3 = process.communicate(input=ref_atm_inp)\n",
      "    ref_atm_arr = re.split('[\\n\\s]+', ref_atm_arr)[1:-1]\n",
      "    ref_atm_arr = np.array(map(float, ref_atm_arr))\n",
      "    ref_atm_arr = np.reshape(ref_atm_arr, (-1,2))\n",
      "    lam = ref_atm_arr[:,0]\n",
      "    ref_atm_arr = ref_atm_arr[:,1] * np.pi / np.cos(sol_zen*np.pi/180.)\n",
      "    \n",
      "    que.put((lam, ref_atm_arr))\n"
     ],
     "language": "python",
     "metadata": {},
     "outputs": [],
     "prompt_number": 11
    },
    {
     "cell_type": "code",
     "collapsed": false,
     "input": [
      "def app_refl(sol_zen, sat_zen, rel_azi,  alt, wl_min, \\\n",
      "        wl_max, atm, aot, wvc, press, surf_alb):\n",
      "    '''A function that calculates the apparent reflectance at the sensor.\n",
      "    '''\n",
      "    lam, ref_atm_arr = atm_path_refl(sol_zen, sat_zen, rel_azi,  alt, wl_min, \\\n",
      "        wl_max, atm, aot, wvc, press)\n",
      "    # interpolate surface albedo to same wavelength as libRadtran\n",
      "    if isinstance(surf_alb, collections.Iterable):\n",
      "        f = interpolate.interp1d(surf_alb[:,0], surf_alb[:,1])\n",
      "        surf_alb = f(lam)\n",
      "    tt_arr = trans_double(sol_zen, sat_zen, rel_azi,  alt, wl_min, \\\n",
      "        wl_max, atm, aot, wvc, press)[1]\n",
      "    sph_alb_arr = spher_alb(sol_zen, sat_zen, rel_azi,  alt, wl_min, \\\n",
      "        wl_max, atm, aot, wvc, press)[1]\n",
      "    app_refl = ref_atm_arr + tt_arr*surf_alb / (1 - sph_alb_arr*surf_alb)\n",
      "    \n",
      "    return (lam, app_refl)"
     ],
     "language": "python",
     "metadata": {},
     "outputs": [],
     "prompt_number": 12
    },
    {
     "cell_type": "code",
     "collapsed": false,
     "input": [
      "def convol_spec(lam, spec, fwhm):\n",
      "    '''Convolves a spectrum with a Gaussina ILS with conversion from a FWHM.\n",
      "    '''\n",
      "    inter = (lam[1] - lam[0] + lam[-1] - lam[-2]) / 2.\n",
      "    std = fwhm / 2. / np.sqrt(2. * np.log(2.)) \n",
      "    pix_std = std / inter\n",
      "    G = gf(spec, pix_std)\n",
      "    \n",
      "    return G"
     ],
     "language": "python",
     "metadata": {},
     "outputs": [],
     "prompt_number": 13
    },
    {
     "cell_type": "code",
     "collapsed": false,
     "input": [
      "def LUT_select(sol_zena, sat_zena, rel_azia, alta, wl_min, \\\n",
      "        wl_max, atma, aota, wvca, pressa):\n",
      "    '''A function that creates a look-up table for all the different iterable\n",
      "    parameters provided. Version for only a select number of points.\n",
      "    '''\n",
      "    tots = len(sol_zena)*len(atma)*len(aota)*len(wvca)*len(pressa)\n",
      "    ite = 0\n",
      "    descr = ['lam', 'atm_path', 'dbl_trans', 'spher_alb', 'sol_zen', 'sat_zen', 'rel_azi',\\\n",
      "             'alt', 'atm', 'AOT', 'WVC', 'press']\n",
      "    lut = {k: list() for k in descr}\n",
      "    for sz, vz, ra, al, at, ao, wv, pr in zip(sol_zena, sat_zena, rel_azia, alta, atma, aota, wvca, pressa):\n",
      "        ite += 1\n",
      "        sys.stdout.write('\\r%d/%d' % (ite, tots))\n",
      "        sys.stdout.flush()\n",
      "        que1 = Queue()\n",
      "        que2 = Queue()\n",
      "        que3 = Queue()\n",
      "        p1 = Process(target=atm_path_refl, args=(sz, vz, ra,  al, wl_min, \\\n",
      "wl_max, at, ao, wv, pr, que1))\n",
      "        p1.start()\n",
      "        p2 = Process(target=trans_double, args=(sz, vz, ra,  al, wl_min, \\\n",
      "wl_max, at, ao, wv, pr, que2))\n",
      "        p2.start()\n",
      "        p3 = Process(target=spher_alb, args=(sz, vz, ra,  al, wl_min, \\\n",
      "wl_max, at, ao, wv, pr, que3))\n",
      "        p3.start()\n",
      "        lam, apr = que1.get()\n",
      "        p1.join()\n",
      "        lam, dtt = que2.get()\n",
      "        p2.join()\n",
      "        lam, sal = que3.get()\n",
      "        p3.join()\n",
      "        vals = [lam, apr, dtt, sal, sz, vz, ra, al, at, ao, wv, pr]\n",
      "        for k, v in zip(descr, vals):\n",
      "            lut[k].append(v)\n",
      "        pdb.set_trace()\n",
      "    sys.stdout.write(\"\\n\")\n",
      "    return lut"
     ],
     "language": "python",
     "metadata": {},
     "outputs": [],
     "prompt_number": "*"
    },
    {
     "cell_type": "code",
     "collapsed": false,
     "input": [
      "lut_select = LUT_select(Sol_zen, Sat_zen, Rel_azi, Alt, wl_min, \\\n",
      "        wl_max, atma, aota, wvca, pressa)"
     ],
     "language": "python",
     "metadata": {},
     "outputs": [
      {
       "output_type": "stream",
       "stream": "stdout",
       "text": [
        "\r",
        "1/1620"
       ]
      }
     ],
     "prompt_number": "*"
    },
    {
     "cell_type": "code",
     "collapsed": false,
     "input": [
      "'''def LUT(sol_zen, sat_zen, rel_azi, alta, wl_min, \\\n",
      "        wl_max, atma, aota, wvca, pressa):\n",
      "    '''A function that creates a look-up table for all the different iterable\n",
      "    parameters provided.\n",
      "    '''\n",
      "    tots = len(sol_zena)*len(sat_zena)*len(rel_azia)\\\n",
      "        *len(alta)*len(atma)*len(aota)*len(wvca)*len(pressa)\n",
      "    ite = 0\n",
      "    descr = ['lam', 'atm_path', 'dbl_trans', 'spher_alb', 'sol_zen', 'sat_zen', 'rel_azi',\\\n",
      "             'alt', 'atm', 'AOT', 'WVC', 'press']\n",
      "    lut = {k: list() for k in descr}\n",
      "    for sz in sol_zena:\n",
      "        for vz in sat_zena:\n",
      "            for ra in rel_azia:\n",
      "                for al in alta:\n",
      "                    for at in atma:\n",
      "                        for ao in aota:\n",
      "                            for wv in wvca:\n",
      "                                for pr in pressa:\n",
      "                                    ite += 1\n",
      "                                    sys.stdout.write('\\r%d/%d' % (ite, tots))\n",
      "                                    sys.stdout.flush()\n",
      "                                    que1 = Queue()\n",
      "                                    que2 = Queue()\n",
      "                                    que3 = Queue()\n",
      "                                    p1 = Process(target=atm_path_refl, args=(sz, vz, ra,  al, wl_min, \\\n",
      "    wl_max, at, ao, wv, pr, que1))\n",
      "                                    p1.start()\n",
      "                                    p2 = Process(target=trans_double, args=(sz, vz, ra,  al, wl_min, \\\n",
      "    wl_max, at, ao, wv, pr, que2))\n",
      "                                    p2.start()\n",
      "                                    p3 = Process(target=spher_alb, args=(sz, vz, ra,  al, wl_min, \\\n",
      "    wl_max, at, ao, wv, pr, que3))\n",
      "                                    p3.start()\n",
      "                                    lam, apr = que1.get()\n",
      "                                    p1.join()\n",
      "                                    lam, dtt = que2.get()\n",
      "                                    p2.join()\n",
      "                                    lam, sal = que3.get()\n",
      "                                    p3.join()\n",
      "                                    vals = [lam, apr, dtt, sal, sz, vz, ra, al, at, ao, wv, pr]\n",
      "                                    for k, v in zip(descr, vals):\n",
      "                                        lut[k].append(v)\n",
      "    sys.stdout.write(\"\\n\")\n",
      "    return lut'''"
     ],
     "language": "python",
     "metadata": {},
     "outputs": [],
     "prompt_number": "*"
    },
    {
     "cell_type": "code",
     "collapsed": false,
     "input": [
      "lut = LUT(sol_zena, sat_zena, rel_azia, alta, wl_min, \\\n",
      "        wl_max, atma, aota, wvca, pressa)"
     ],
     "language": "python",
     "metadata": {},
     "outputs": [],
     "prompt_number": "*"
    },
    {
     "cell_type": "code",
     "collapsed": false,
     "input": [
      "fn = 'LUT.p'\n",
      "fl = open(fn, 'wb')\n",
      "pickle.dump(lut, fl)\n",
      "fl.close()"
     ],
     "language": "python",
     "metadata": {},
     "outputs": [],
     "prompt_number": "*"
    },
    {
     "cell_type": "code",
     "collapsed": false,
     "input": [
      "fn = 'LUT.p'\n",
      "fl = open(fn, 'rb')\n",
      "lut_test = pickle.load(fl)\n",
      "fl.close()"
     ],
     "language": "python",
     "metadata": {},
     "outputs": [],
     "prompt_number": "*"
    },
    {
     "cell_type": "code",
     "collapsed": false,
     "input": [
      "lut_test.keys()"
     ],
     "language": "python",
     "metadata": {},
     "outputs": [],
     "prompt_number": "*"
    },
    {
     "cell_type": "code",
     "collapsed": false,
     "input": [],
     "language": "python",
     "metadata": {},
     "outputs": [],
     "prompt_number": "*"
    }
   ],
   "metadata": {}
  }
 ]
}
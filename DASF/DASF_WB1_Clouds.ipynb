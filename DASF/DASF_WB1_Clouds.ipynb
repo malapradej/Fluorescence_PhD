{
 "metadata": {
  "name": ""
 },
 "nbformat": 3,
 "nbformat_minor": 0,
 "worksheets": [
  {
   "cells": [
    {
     "cell_type": "heading",
     "level": 1,
     "metadata": {},
     "source": [
      "Clouds simulations including PCA"
     ]
    },
    {
     "cell_type": "markdown",
     "metadata": {},
     "source": [
      "In order to attempt to model the affect of clouds on our TOA GOME-2 reflectance signal we are going to use Principle Component Analysis (PCA) to separate the different contributions towards the signal into Principle Components (PC). This PCA needs to encompass all the spectral variance we would typically find in the area we are interested in. As the DASF model will be global we need to include all cloud types weighted according to their frequency of occurance. The different parameters we need to include in the Radiative Transfer (RT) model with which we will be simulating the cloud reflectance are: cloud liquid water content (lwc), ice/droplet effective radius, cloud top height, cloud bottom height, view and solar angles both azimuth and zenith, ice/water cloud type as well as typical atmospheric parameters that are important for our part of the spectrum we will be retrieving in. This includes: aerosol optical thickness (aot), atmosperic pressure at surface (press), atmospheric lwc. We will be assuming a completely absorbing lower boundary thus surface albedo of zero. "
     ]
    },
    {
     "cell_type": "heading",
     "level": 2,
     "metadata": {},
     "source": [
      "List of cloud properties and their variances"
     ]
    },
    {
     "cell_type": "markdown",
     "metadata": {},
     "source": [
      "In order to do the simulations a list of the parameters and their ranges need to be created. This list will be used to create the PCs. A list of cloud types and parameters are found in the Cloud_type_data.csv file. Ranges are based on either a 10% variance or a minimum and maximum value in the column with uniform distribution inbetween. Depending on the amount of simulations to be selected we will randomly sample from the distribution of points within the ranges and types. The global estimates of cloud types are kept fixed as taken from literature. A list of cloud spectra will be created and and saved to a Dataframe in a hdf file which will be retrieved later for the PCA."
     ]
    },
    {
     "cell_type": "code",
     "collapsed": false,
     "input": [
      "# do some preparation for all the cells below\n",
      "\n",
      "import numpy as np\n",
      "import pandas as pd\n",
      "import os\n",
      "%matplotlib inline\n",
      "import scipy as sc\n",
      "import scipy.stats as stats\n",
      "import pdb\n",
      "from scipy import signal\n",
      "\n",
      "fwhm = 0.4931 # fwhm of slit function nm\n",
      "w_slit = 2 # width of slit function in nm\n",
      "\n",
      "def slit_smooth(lam, spectrum, fwhm, width):\n",
      "    '''\n",
      "    Function that applies the gaussian slit function with known FWHM to spectrum.\n",
      "    It will replace the boundaries of the smoothed spectrum which are affected by\n",
      "    zero padding with the original spectrum.\n",
      "    Input:\n",
      "    lam - wavelenght array in nm\n",
      "    spectrum - the spectrum to convolve\n",
      "    fwhm - the full width half maximum of the gaussian in nm\n",
      "    width - the width of the slit function in nm\n",
      "    Output:\n",
      "    convol - smoothed spectrum\n",
      "    '''\n",
      "    resol = np.average(np.diff(lam)) # average spectral resol of model in nm\n",
      "    intervals = np.ceil((width / resol)+1) # the number of intervals in the width of slit\n",
      "    slit = signal.gaussian(intervals, fwhm/2.3548201*intervals/width)\n",
      "    convol = signal.fftconvolve(spectrum, slit/np.sum(slit), mode='same')\n",
      "    hwidth = (intervals-1)/2\n",
      "    convol[:intervals] = spectrum[:intervals]\n",
      "    convol[-intervals-1:] = spectrum[-intervals-1:]\n",
      "    return convol"
     ],
     "language": "python",
     "metadata": {},
     "outputs": [],
     "prompt_number": 362
    },
    {
     "cell_type": "code",
     "collapsed": false,
     "input": [
      "# prior to simulations get distributions of typical atmospheric parameters\n",
      "# use the param variable to randomly select AOT simulations from an exponential distribution\n",
      "\n",
      "# aerosols\n",
      "\n",
      "import os\n",
      "import glob\n",
      "import numpy as np\n",
      "%matplotlib inline\n",
      "import scipy.misc as misc\n",
      "import gdal\n",
      "\n",
      "root = '/home/malapradej/Documents/PhD_UCL/Data/SeaWIFS/Aerosols'\n",
      "pattern = '*.h5'\n",
      "crit = os.path.join(root, pattern)\n",
      "Fns = glob.glob(crit)\n",
      "\n",
      "crit_AOT = 'HDF5:\\\"%s\\\"://aerosol_optical_thickness_land'\n",
      "crit_AOT_std = 'HDF5:\\\"%s\\\"://aerosol_optical_thickness_stddev_land'\n",
      "\n",
      "Lat = []\n",
      "Lon = []\n",
      "AOT = []\n",
      "\n",
      "for fn in Fns:\n",
      "    dsn_aot = crit_AOT % fn\n",
      "    ds_AOT = gdal.Open(dsn_aot)\n",
      "    arr_AOT = ds_AOT.ReadAsArray()[2]\n",
      "    arr_AOT = np.where(arr_AOT==-999, np.nan, arr_AOT)\n",
      "    \n",
      "    dsn_aot_std = crit_AOT_std % fn\n",
      "    ds_AOT_std = gdal.Open(dsn_aot_std)\n",
      "    arr_AOT_std = ds_AOT_std.ReadAsArray()[2]\n",
      "    arr_AOT_std = np.where(arr_AOT_std==-999, np.nan, arr_AOT_std)\n",
      "    \n",
      "    arr_AOT = np.where(arr_AOT_std>0.3, np.nan, arr_AOT)\n",
      "    AOT.append(arr_AOT)\n",
      "\n",
      "AOT_flat = np.array(AOT).flatten()\n",
      "AOT_flat = AOT_flat[~np.isnan(AOT_flat)]\n",
      "weights = np.ones_like(AOT_flat)/len(AOT_flat)\n",
      "\n",
      "y = AOT_flat\n",
      "dist = stats.expon\n",
      "\n",
      "x = np.linspace(0, y.max(), 100, endpoint=True)\n",
      "# fit\n",
      "param_aot = dist.fit(y) #shape, loc, scale\n",
      "pdf_fitted = dist.pdf(x, *param_aot)\n",
      "plt.plot(x, pdf_fitted, color='r')\n",
      "\n",
      "# plot the histogram \n",
      "plt.hist(y, bins=30, color='w', normed=True)\n",
      "plt.xlim(0,1)\n",
      "plt.ylabel('normed obs', fontsize='large')\n",
      "plt.xlabel('AOT', fontsize='large')\n",
      "plt.show()\n",
      "print 'loc:%.5e, scale:%.5e' %param_aot # loc:7.66527e-03, scale:1.43909e-01"
     ],
     "language": "python",
     "metadata": {},
     "outputs": [
      {
       "metadata": {},
       "output_type": "display_data",
       "png": "[encoded data removed]",
       "text": [
        "<matplotlib.figure.Figure at 0x7f94e0d64f50>"
       ]
      },
      {
       "output_type": "stream",
       "stream": "stdout",
       "text": [
        "loc:7.66527e-03, scale:1.43909e-01\n"
       ]
      }
     ],
     "prompt_number": 164
    },
    {
     "cell_type": "code",
     "collapsed": false,
     "input": [
      "# now test to see if run of random exponential distribution with the params over many simulations get the same curve\n",
      "test = []\n",
      "for i in np.arange(4000):\n",
      "    test.append(np.random.exponential(param_aot[-1]))\n",
      "\n",
      "yt = np.array(test)\n",
      "dist = stats.expon\n",
      "\n",
      "xt = np.linspace(0, yt.max(), 100, endpoint=True)\n",
      "# fit\n",
      "paramt = dist.fit(yt) #shape, loc, scale\n",
      "pdf_fittedt = dist.pdf(xt, *paramt)\n",
      "plt.plot(xt, pdf_fittedt, color='b')\n",
      "\n",
      "# plot the histogram \n",
      "plt.hist(yt, bins=30, color='w', normed=True)\n",
      "plt.xlim(0,1)\n",
      "plt.ylabel('normed obs', fontsize='large')\n",
      "plt.xlabel('AOT', fontsize='large')\n",
      "plt.show()\n",
      "print 'loc:%.5e, scale:%.5e' %paramt # loc:4.28735e-05, scale:1.44300e-01"
     ],
     "language": "python",
     "metadata": {},
     "outputs": [
      {
       "metadata": {},
       "output_type": "display_data",
       "png": "[encoded data removed]",
       "text": [
        "<matplotlib.figure.Figure at 0x7f94d0dbd090>"
       ]
      },
      {
       "output_type": "stream",
       "stream": "stdout",
       "text": [
        "loc:4.28735e-05, scale:1.44300e-01\n"
       ]
      }
     ],
     "prompt_number": 165
    },
    {
     "cell_type": "code",
     "collapsed": false,
     "input": [
      "# now for lwc or H2O total column from GOME-2 l2 product\n",
      "# the files used are per orbit for June and Dec 2007. altogehter 7.9GB of data.\n",
      "\n",
      "import numpy as np\n",
      "from fnmatch import fnmatch\n",
      "%matplotlib inline\n",
      "import h5py\n",
      "import os\n",
      "\n",
      "root = '/home/malapradej/Documents/PhD_UCL/Data/GOME-2/H2O/atmos.caf.dlr.de/gome2a/offline/2007'\n",
      "pattern = '*.HDF5'\n",
      "Fns = []\n",
      "\n",
      "for path, subdirs, files in os.walk(root):\n",
      "    for name in files:\n",
      "        if fnmatch(name, pattern):\n",
      "            Fns.append(os.path.join(path, name))\n",
      "\n",
      "TC_H2O = []\n",
      "TC_H2O_err = []\n",
      "\n",
      "nfiles = len(Fns)\n",
      "\n",
      "for i, fn in enumerate(Fns):\n",
      "    #print 'file %d or %d.' % (i, nfiles)\n",
      "    f = h5py.File(fn, 'r')\n",
      "    \n",
      "    # select ordering of gasses\n",
      "    gas = 'H2O'\n",
      "    gas_nr = np.where(f[u'META_DATA'][u'MainSpecies'][:]==gas)[0][0]\n",
      "    \n",
      "    # total column\n",
      "    # units of kg/m2 (libRadtran MM)\n",
      "    # flag needs to be 0 for correct retrieval\n",
      "    tc_H2O_flag = f[u'DETAILED_RESULTS'][u'QualityFlags'][:,gas_nr]  # column 5\n",
      "    index_flag = np.where(tc_H2O_flag==0)[0]          # index of correct retrievals\n",
      "    tc_H2O = f[\"/TOTAL_COLUMNS\"][u'H2O'][:]\n",
      "    index_fill = np.where(tc_H2O!=-1)[0]              # fill value of -1\n",
      "    tc_H2O_err = f[\"/TOTAL_COLUMNS\"][u'H2O_Error'][:]           # % error\n",
      "    \n",
      "    # view mode in binary\n",
      "    # must be nadir (nominal) and descending part of orbit\n",
      "    # which is 100000000 or 256\n",
      "    view_mode = f[u'GEOLOCATION'][u'ViewMode'][:]\n",
      "    index_nadir = np.where(view_mode==256)[0] # index of nadir pixels\n",
      "    \n",
      "    index_good = list(set(index_flag.flatten()) & set(index_nadir.flatten())\\\n",
      "            & set(index_fill.flatten()))\n",
      "    \n",
      "    tc_H2O = tc_H2O[index_good]\n",
      "    tc_H2O_err = tc_H2O_err[index_good]\n",
      "    \n",
      "    TC_H2O.extend(list(tc_H2O))\n",
      "    TC_H2O_err.extend(list(tc_H2O_err))\n",
      "    \n",
      "    f.close()\n",
      "\n",
      "TC_H2O_flat = np.array(TC_H2O).flatten()\n",
      "TC_H2O_err_flat = np.array(TC_H2O_err).flatten()\n",
      "TC_H2O_flat = np.where(TC_H2O_err_flat>30, np.nan, TC_H2O)\n",
      "TC_H2O_flat = TC_H2O_flat[~np.isnan(TC_H2O_flat)]\n",
      "\n",
      "y = TC_H2O_flat\n",
      "weights = np.ones_like(y)/len(y)\n",
      "dist = stats.lognorm\n",
      "\n",
      "x = np.linspace(0, y.max(), 100, endpoint=True)\n",
      "# fit\n",
      "param_wvc = dist.fit(y) #shape, loc, scale\n",
      "pdf_fitted = dist.pdf(x, *param_wvc)\n",
      "plt.plot(x, pdf_fitted, color='r')\n",
      "\n",
      "# plot the histogram \n",
      "plt.hist(y, bins=30, normed=True, color='w')\n",
      "plt.xlabel(r'TOTAL COLUMN $H_2O (kg/m^2)$', fontsize='large')\n",
      "plt.ylabel('normed obs', fontsize='large')\n",
      "plt.show()\n",
      "print 'shape:%.5e, loc:%.5e, scale:%.5e' %param_wvc # shape:7.63917e-01, loc:5.66790e-01, scale:1.68212e+01"
     ],
     "language": "python",
     "metadata": {},
     "outputs": [
      {
       "metadata": {},
       "output_type": "display_data",
       "png": "[encoded data removed]",
       "text": [
        "<matplotlib.figure.Figure at 0x7f94e0912750>"
       ]
      },
      {
       "output_type": "stream",
       "stream": "stdout",
       "text": [
        "shape:7.63917e-01, loc:5.66790e-01, scale:1.68212e+01\n"
       ]
      }
     ],
     "prompt_number": 211
    },
    {
     "cell_type": "code",
     "collapsed": false,
     "input": [
      "print param_wvc\n",
      "print param_wvct\n",
      "print TC_H2O_flat.shape\n",
      "stats.lognorm.rvs(s=param_wvc[0], loc=param_wvc[1], scale=param_wvc[2])"
     ],
     "language": "python",
     "metadata": {},
     "outputs": [
      {
       "output_type": "stream",
       "stream": "stdout",
       "text": [
        "(0.76391716793780962, 0.566790014250943, 16.821175575298916)\n",
        "(0.77754276530257549, 0.67976703822682105, 16.66951894971934)\n",
        "(4479792,)\n"
       ]
      },
      {
       "metadata": {},
       "output_type": "pyout",
       "prompt_number": 347,
       "text": [
        "14.534055300778094"
       ]
      }
     ],
     "prompt_number": 347
    },
    {
     "cell_type": "code",
     "collapsed": false,
     "input": [
      "# test the lwc lognormal random number generator\n",
      "test = []\n",
      "\n",
      "for i in np.arange(600):\n",
      "    test.append(stats.lognorm.rvs(s=param_wvc[0], loc=param_wvc[1], scale=param_wvc[2]))\n",
      "    \n",
      "yt = np.array(test)\n",
      "dist = stats.lognorm\n",
      "\n",
      "xt = np.linspace(0, yt.max(), 100, endpoint=True)\n",
      "# fit\n",
      "param_wvct = dist.fit(yt) #shape (std), loc (mean), scale\n",
      "pdf_fittedt = dist.pdf(xt, *param_wvct)\n",
      "plt.plot(xt, pdf_fittedt, color='b')\n",
      "\n",
      "# plot the histogram \n",
      "plt.hist(yt, bins=30, normed=True, color='w')\n",
      "plt.xlabel(r'TOTAL COLUMN $H_2O (kg/m^2)$', fontsize='large')\n",
      "plt.ylabel('normed obs', fontsize='large')\n",
      "plt.xlim(0,100)\n",
      "plt.show()\n",
      "print 'shape:%.5e, loc:%.5e, scale:%.5e' %param_wvct # shape:7.63917e-01, loc:5.66790e-01, scale:1.68212e+01"
     ],
     "language": "python",
     "metadata": {},
     "outputs": [
      {
       "metadata": {},
       "output_type": "display_data",
       "png": "[encoded data removed]",
       "text": [
        "<matplotlib.figure.Figure at 0x7f94e07cd450>"
       ]
      },
      {
       "output_type": "stream",
       "stream": "stdout",
       "text": [
        "shape:7.33448e-01, loc:-1.17282e-01, scale:1.83942e+01\n"
       ]
      }
     ],
     "prompt_number": 358
    },
    {
     "cell_type": "code",
     "collapsed": false,
     "input": [
      "# now for surface pressure"
     ],
     "language": "python",
     "metadata": {},
     "outputs": [],
     "prompt_number": 209
    },
    {
     "cell_type": "code",
     "collapsed": false,
     "input": [
      "isinstance(np.array([1,2]), (float, int))"
     ],
     "language": "python",
     "metadata": {},
     "outputs": [
      {
       "metadata": {},
       "output_type": "pyout",
       "prompt_number": 238,
       "text": [
        "False"
       ]
      }
     ],
     "prompt_number": 238
    },
    {
     "cell_type": "code",
     "collapsed": false,
     "input": [
      "# list of cloud properties imported and simulations of cloud spectra.\n",
      "import subprocess\n",
      "import re\n",
      "\n",
      "# import the cloud type file and set up cloud type dataframe\n",
      "cl_fn = 'Cloud_type_data.csv'\n",
      "cl_df = pd.DataFrame.from_csv(cl_fn)\n",
      "\n",
      "# set up a default profile file and amend the content during each iteration\n",
      "# of the values in the dataframe\n",
      "no_sims = 100. # the number of simulations to do, will be spread out.\n",
      "levels = 10 # the number of level intervals over which to spread the cloud\n",
      "tot_cld = np.float(cl_df.sum()['perc'])\n",
      "# how many simulations per cloud type in sims column\n",
      "cl_df['sims'] = np.round(cl_df['perc']/tot_cld*no_sims)\n",
      "\n",
      "# atmospheric parameters need to be selected with ranges or distribution parameters\n",
      "wvcp = param_wvc #np.array([0., 80])\n",
      "aotp = param_aot #np.array([0.0, 1.0]) # aot needs to converted to transmittance before random selection\n",
      "pressr = np.array([900., 1100]) #hPa\n",
      "szar = np.array([0., 70.])\n",
      "phi0r = np.array([0., 360.])\n",
      "umur = np.array([1., 0.34202]) # 0 to 70 degrees\n",
      "phir = np.array([0., 360.])\n",
      "st_wl = 540.\n",
      "en_wl = 800.\n",
      "\n",
      "# libradtran input files\n",
      "inp_default = 'data_files_path /usr/local/share/libRadtran/data/\\n\\\n",
      "    output_quantity reflectivity \\nmol_abs_param reptran\\n\\\n",
      "    atmosphere_file tropics \\nrte_solver disort \\naerosol_default \\\n",
      "    \\naerosol_species_file continental_average \\\n",
      "    \\naerosol_set_tau_at_wvl 550 %.3f \\nmol_modify H2O %.3f MM \\\n",
      "    \\npressure %.3f \\nsource solar /usr/local/share/libRadtran/data/solar_flux/atlas_plus_modtran\\\n",
      "    \\nsza %.6f \\nphi0 %.6f \\numu %.6f \\nphi %.6f \\\n",
      "    \\nalbedo 0.0 \\naltitude 0.0 \\nzout TOA \\nwavelength_grid %s \\nwavelength %.8f %.8f \\\n",
      "    \\noutput_user lambda uu \\n%s_file 1D \\\n",
      "    %s \\ncloudcover %s 1'\n",
      "\n",
      "# set an internal libRadtran wavelength grid file at 0.1nm interval to speed up computations\n",
      "# but high enough to include all spectral features. we will smooth it later\n",
      "wl_grid_fn = 'wl_grid.dat'\n",
      "wl_int = 0.1\n",
      "wl_grid = np.arange(st_wl, en_wl+wl_int, 0.1).T\n",
      "np.savetxt(wl_grid_fn, wl_grid, fmt='%.2f')\n",
      "\n",
      "temp_df = pd.DataFrame()\n",
      "# the hierarchical index to use\n",
      "col_abbr = [] # Abbreviation\n",
      "col_cl_top = [] # Cloud top\n",
      "col_lwc = []\n",
      "col_rad = []\n",
      "col_wvc = []\n",
      "col_aot = []\n",
      "col_press = []\n",
      "col_sza = []\n",
      "col_phi0 = []\n",
      "col_umu = []\n",
      "col_phi = []\n",
      "\n",
      "ser_list = []\n",
      "levels = 10 # no of levels in cloud profile\n",
      "ran_var = 0.1 # variation allowed in parameters\n",
      "\n",
      "cl_prof_fn = 'cloud_temp.dat' # file name of profile file\n",
      "for r in cl_df.iterrows(): # loop over cloud types\n",
      "    cl_abbr = r[1].name\n",
      "    \n",
      "    cl_bot = r[1]['alt_bot']\n",
      "    if isinstance(cl_bot, (float, int)):\n",
      "        cl_bot = np.float(cl_bot)\n",
      "    else:\n",
      "        cl_bot = cl_bot.split('/')\n",
      "        cl_bot = np.min(np.array(cl_bot).astype(np.float))\n",
      "    \n",
      "    cl_top_min = r[1]['alt_top_min']\n",
      "    if isinstance(cl_top_min, (float, int)):\n",
      "        cl_top_min = np.float(cl_top_min)\n",
      "    else:\n",
      "        cl_top_min = cl_top_min.split('/')\n",
      "        cl_top_min = np.min(np.array(cl_top_min).astype(np.float))   \n",
      "        \n",
      "    cl_top_max = r[1]['alt_top_max']\n",
      "    if isinstance(cl_top_max, (float, int)):\n",
      "        cl_top_max = np.float(cl_top_max)\n",
      "    else:\n",
      "        cl_top_max = cl_top_max.split('/')\n",
      "        cl_top_max = np.max(np.array(cl_top_max).astype(np.float))\n",
      "        \n",
      "    sims = r[1]['sims']\n",
      "    wi = 'wc' if r[1]['iw'] == 'W' else 'ic'\n",
      "    for s in np.arange(sims):\n",
      "        lwc = r[1]['lwc']\n",
      "        #pdb.set_trace()\n",
      "        if isinstance(lwc, (float, int)):\n",
      "            lwc = np.random.uniform(low=lwc-ran_var*lwc, high=lwc+ran_var*lwc)\n",
      "        else:\n",
      "            lwc = lwc.split('/')\n",
      "            lwc_min = np.min(np.array(lwc).astype(np.float))\n",
      "            lwc_max = np.max(np.array(lwc).astype(np.float))\n",
      "            lwc = np.random.uniform(low=lwc_min-ran_var*lwc_min, high=lwc_max+ran_var*lwc_max)\n",
      "            \n",
      "        rad = r[1]['rad']\n",
      "        if isinstance(rad, (float, int)):\n",
      "            rad = np.random.uniform(low=rad-ran_var*rad, high=rad+ran_var*rad)\n",
      "        else:\n",
      "            rad = rad.split('/')\n",
      "            rad_min = np.min(np.array(rad).astype(np.float))\n",
      "            rad_max = np.max(np.array(rad).astype(np.float))\n",
      "            rad = np.random.uniform(low=rad_min-ran_var*rad_min, high=rad_max+ran_var*rad_max)\n",
      "        \n",
      "        h = np.random.uniform(low=cl_top_min, high=cl_top_max)        \n",
      "        hs = np.linspace(h, cl_bot, levels, endpoint=True) / 1000 # convert to km's\n",
      "        \n",
      "        lwca = np.repeat(lwc, levels)\n",
      "        rada = np.repeat(rad, levels)\n",
      "        cl_arr = np.array([hs, lwca, rada]).T\n",
      "        np.savetxt(cl_prof_fn, cl_arr, delimiter=' ', fmt='%.5f')\n",
      "        \n",
      "        #wvc_min = np.min(wvcr)\n",
      "        #wvc_max = np.max(wvcr)\n",
      "        #wvc = np.random.uniform(low=wvc_min, high=wvc_max)\n",
      "        wvc = stats.lognorm.rvs(s=param_wvc[0], loc=param_wvc[1], scale=param_wvc[2])\n",
      "        \n",
      "        # need to convert aot to transmittance before uniform selection over range\n",
      "        #trans_min = np.min(np.exp(-aotr))\n",
      "        #trans_max = np.max(np.exp(-aotr))\n",
      "        #trans = np.random.uniform(low=trans_min, high=trans_max)        \n",
      "        #aot = -np.log(trans) # back to aot\n",
      "        aot = np.random.exponential(aotp[-1])\n",
      "        \n",
      "        press_min = np.min(pressr)\n",
      "        press_max = np.max(pressr)\n",
      "        press = np.random.uniform(low=press_min, high=press_max)\n",
      "        \n",
      "        sza_min = np.min(szar)\n",
      "        sza_max = np.max(szar)\n",
      "        sza = np.random.uniform(low=sza_min, high=sza_max)\n",
      "        \n",
      "        phi0_min = np.min(phi0r)\n",
      "        phi0_max = np.max(phi0r)\n",
      "        phi0 = np.random.uniform(low=phi0_min, high=phi0_max)\n",
      "        \n",
      "        umu_min = np.min(umur)\n",
      "        umu_max = np.max(umur)\n",
      "        umu = np.random.uniform(low=umu_min, high=umu_max)\n",
      "        \n",
      "        phi_min = np.min(phir)\n",
      "        phi_max = np.max(phir)\n",
      "        phi = np.random.uniform(low=phi_min, high=phi_max)\n",
      "        \n",
      "        inp_cloud = inp_default \\\n",
      "        %(aot, wvc, press, sza, phi0, umu, phi, wl_grid_fn, st_wl, en_wl+1, wi, \\\n",
      "            cl_prof_fn, wi)\n",
      "        process = subprocess.Popen('uvspec', stdin=subprocess.PIPE, stdout=\\\n",
      "            subprocess.PIPE, stderr=subprocess.PIPE, shell=True)\n",
      "        spectrum, err = process.communicate(input=inp_cloud)\n",
      "        spectrum = re.split('[\\n\\s]+', spectrum)[1:-1]\n",
      "        spectrum = np.array(map(float, spectrum))\n",
      "        spectrum = np.reshape(spectrum, (-1,2))\n",
      "        lam = spectrum[:,0]\n",
      "        spectrum = spectrum[:,1]\n",
      "        \n",
      "        #smooth the spectrum using slit function\n",
      "        spectrum = slit_smooth(lam, spectrum, fwhm, w_slit)\n",
      "        \n",
      "        spec_ser = pd.Series(data=spectrum, index=lam)\n",
      "        ser_list.append(spec_ser)\n",
      "        col_abbr.append(cl_abbr)\n",
      "        col_lwc.append(lwc)\n",
      "        col_rad.append(rad)\n",
      "        col_cl_top.append(h)\n",
      "        col_wvc.append(wvc)\n",
      "        col_aot.append(aot)\n",
      "        col_press.append(press)\n",
      "        col_sza.append(sza)\n",
      "        col_phi0.appand(phi0)\n",
      "        col_umu.append(umu)\n",
      "        col_phi.append(phi)\n",
      "\n",
      "# save to Dataframe and then hdf5 file on disk\n",
      "spec_df = pd.DataFrame(data=ser_list).transpose()\n",
      "mul_index = pd.MultiIndex.from_arrays([col_abbr, col_lwc, col_rad, col_cl_top, col_wvc,\\\n",
      "    col_aot, col_press, col_sza, col_phi0, col_umu, col_phi], names=['type', 'lwc', \\\n",
      "    'rad', 'cl_top', 'wvc', 'aot', 'press', 'sza', 'phi0', 'umu', 'phi'])\n",
      "spec_df.columns = mul_index\n",
      "spec_df.index.name = 'wavelength'\n",
      "h5_fn = 'cloud_sims.h5'\n",
      "if os.path.isfile(h5_fn):\n",
      "    os.remove(h5_fn)\n",
      "store = pd.HDFStore(h5_fn)\n",
      "store['reflectance'] = spec_df"
     ],
     "language": "python",
     "metadata": {},
     "outputs": [
      {
       "ename": "IndexError",
       "evalue": "invalid slice",
       "output_type": "pyerr",
       "traceback": [
        "\u001b[0;31m---------------------------------------------------------------------------\u001b[0m\n\u001b[0;31mIndexError\u001b[0m                                Traceback (most recent call last)",
        "\u001b[0;32m<ipython-input-363-d1ae209b9032>\u001b[0m in \u001b[0;36m<module>\u001b[0;34m()\u001b[0m\n\u001b[1;32m    151\u001b[0m \u001b[0;34m\u001b[0m\u001b[0m\n\u001b[1;32m    152\u001b[0m         \u001b[0;31m#smooth the spectrum using slit function\u001b[0m\u001b[0;34m\u001b[0m\u001b[0;34m\u001b[0m\u001b[0m\n\u001b[0;32m--> 153\u001b[0;31m         \u001b[0mspectrum\u001b[0m \u001b[0;34m=\u001b[0m \u001b[0mslit_smooth\u001b[0m\u001b[0;34m(\u001b[0m\u001b[0mlam\u001b[0m\u001b[0;34m,\u001b[0m \u001b[0mspectrum\u001b[0m\u001b[0;34m,\u001b[0m \u001b[0mfwhm\u001b[0m\u001b[0;34m,\u001b[0m \u001b[0mw_slit\u001b[0m\u001b[0;34m)\u001b[0m\u001b[0;34m\u001b[0m\u001b[0m\n\u001b[0m\u001b[1;32m    154\u001b[0m \u001b[0;34m\u001b[0m\u001b[0m\n\u001b[1;32m    155\u001b[0m         \u001b[0mspec_ser\u001b[0m \u001b[0;34m=\u001b[0m \u001b[0mpd\u001b[0m\u001b[0;34m.\u001b[0m\u001b[0mSeries\u001b[0m\u001b[0;34m(\u001b[0m\u001b[0mdata\u001b[0m\u001b[0;34m=\u001b[0m\u001b[0mspectrum\u001b[0m\u001b[0;34m,\u001b[0m \u001b[0mindex\u001b[0m\u001b[0;34m=\u001b[0m\u001b[0mlam\u001b[0m\u001b[0;34m)\u001b[0m\u001b[0;34m\u001b[0m\u001b[0m\n",
        "\u001b[0;32m<ipython-input-362-ee4f2459dcf7>\u001b[0m in \u001b[0;36mslit_smooth\u001b[0;34m(lam, spectrum, fwhm, width)\u001b[0m\n\u001b[1;32m     31\u001b[0m     \u001b[0mconvol\u001b[0m \u001b[0;34m=\u001b[0m \u001b[0msignal\u001b[0m\u001b[0;34m.\u001b[0m\u001b[0mfftconvolve\u001b[0m\u001b[0;34m(\u001b[0m\u001b[0mspectrum\u001b[0m\u001b[0;34m,\u001b[0m \u001b[0mslit\u001b[0m\u001b[0;34m/\u001b[0m\u001b[0mnp\u001b[0m\u001b[0;34m.\u001b[0m\u001b[0msum\u001b[0m\u001b[0;34m(\u001b[0m\u001b[0mslit\u001b[0m\u001b[0;34m)\u001b[0m\u001b[0;34m,\u001b[0m \u001b[0mmode\u001b[0m\u001b[0;34m=\u001b[0m\u001b[0;34m'same'\u001b[0m\u001b[0;34m)\u001b[0m\u001b[0;34m\u001b[0m\u001b[0m\n\u001b[1;32m     32\u001b[0m     \u001b[0mhwidth\u001b[0m \u001b[0;34m=\u001b[0m \u001b[0;34m(\u001b[0m\u001b[0mintervals\u001b[0m\u001b[0;34m-\u001b[0m\u001b[0;36m1\u001b[0m\u001b[0;34m)\u001b[0m\u001b[0;34m/\u001b[0m\u001b[0;36m2\u001b[0m\u001b[0;34m\u001b[0m\u001b[0m\n\u001b[0;32m---> 33\u001b[0;31m     \u001b[0mconvol\u001b[0m\u001b[0;34m[\u001b[0m\u001b[0;34m:\u001b[0m\u001b[0mintervals\u001b[0m\u001b[0;34m]\u001b[0m \u001b[0;34m=\u001b[0m \u001b[0mspectrum\u001b[0m\u001b[0;34m[\u001b[0m\u001b[0;34m:\u001b[0m\u001b[0mintervals\u001b[0m\u001b[0;34m]\u001b[0m\u001b[0;34m\u001b[0m\u001b[0m\n\u001b[0m\u001b[1;32m     34\u001b[0m     \u001b[0mconvol\u001b[0m\u001b[0;34m[\u001b[0m\u001b[0;34m-\u001b[0m\u001b[0mintervals\u001b[0m\u001b[0;34m-\u001b[0m\u001b[0;36m1\u001b[0m\u001b[0;34m:\u001b[0m\u001b[0;34m]\u001b[0m \u001b[0;34m=\u001b[0m \u001b[0mspectrum\u001b[0m\u001b[0;34m[\u001b[0m\u001b[0;34m-\u001b[0m\u001b[0mintervals\u001b[0m\u001b[0;34m-\u001b[0m\u001b[0;36m1\u001b[0m\u001b[0;34m:\u001b[0m\u001b[0;34m]\u001b[0m\u001b[0;34m\u001b[0m\u001b[0m\n\u001b[1;32m     35\u001b[0m     \u001b[0;32mreturn\u001b[0m \u001b[0mconvol\u001b[0m\u001b[0;34m\u001b[0m\u001b[0m\n",
        "\u001b[0;31mIndexError\u001b[0m: invalid slice"
       ]
      }
     ],
     "prompt_number": 363
    },
    {
     "cell_type": "code",
     "collapsed": false,
     "input": [],
     "language": "python",
     "metadata": {},
     "outputs": [],
     "prompt_number": 244
    },
    {
     "cell_type": "code",
     "collapsed": false,
     "input": [
      "x = np.linspace(0., 1., 100)\n",
      "y = np.exp(-x)\n",
      "plt.plot(x, y)\n",
      "\n",
      "x = np.arange(0., 1., 0.2)\n",
      "y = np.exp(-x)\n",
      "print y\n",
      "plt.plot(x, y, 'rx')\n",
      "\n",
      "ymax = np.exp(-1)\n",
      "y = np.linspace(1., ymax, 5)\n",
      "print y\n",
      "x = np.log(-y)\n",
      "plt.plot(x, y, 'k+', markersize=40)\n",
      "\n",
      "plt.ylim(0., 1.)"
     ],
     "language": "python",
     "metadata": {},
     "outputs": [
      {
       "output_type": "stream",
       "stream": "stdout",
       "text": [
        "[ 1.          0.81873075  0.67032005  0.54881164  0.44932896]\n",
        "[ 1.          0.84196986  0.68393972  0.52590958  0.36787944]\n"
       ]
      },
      {
       "metadata": {},
       "output_type": "pyout",
       "prompt_number": 51,
       "text": [
        "(0.0, 1.0)"
       ]
      },
      {
       "metadata": {},
       "output_type": "display_data",
       "png": "[encoded data removed]",
       "text": [
        "<matplotlib.figure.Figure at 0x7f9306ecad50>"
       ]
      }
     ],
     "prompt_number": 51
    },
    {
     "cell_type": "code",
     "collapsed": false,
     "input": [
      "#plotting cloud spectra \n",
      "# no of random cloud spectra to plot\n",
      "n_clds = 5"
     ],
     "language": "python",
     "metadata": {},
     "outputs": []
    },
    {
     "cell_type": "code",
     "collapsed": false,
     "input": [
      "# number of PC's to keep and plot\n",
      "n_comp = 5"
     ],
     "language": "python",
     "metadata": {},
     "outputs": []
    }
   ],
   "metadata": {}
  }
 ]
}